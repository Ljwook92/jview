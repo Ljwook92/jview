{
 "cells": [
  {
   "cell_type": "markdown",
   "metadata": {},
   "source": [
    "# NLP"
   ]
  },
  {
   "cell_type": "markdown",
   "metadata": {},
   "source": [
    "# Import Libraries"
   ]
  },
  {
   "cell_type": "code",
   "execution_count": 1,
   "metadata": {},
   "outputs": [],
   "source": [
    "from pprint import pprint            # For pretty-printing data structures\n",
    "from bs4 import BeautifulSoup        # Import BeautifulSoup for HTML parsing\n",
    "from urllib.request import urlopen   # For opening URLs\n",
    "\n",
    "import requests                     # For adding header\n",
    "import pandas as pd\n",
    "import re                           # For numeric columns\n",
    "import numpy as np                  # For numeric columns\n",
    "\n",
    "import matplotlib.pyplot as plt     # For visualization\n",
    "\n",
    "\n",
    "import nltk                             # For Stopwords\n",
    "import string                           # For Stopwords\n",
    "from nltk.corpus import stopwords       # For Stopwords\n",
    "from nltk.tokenize import word_tokenize # For Stopwords\n",
    "from string import punctuation          # For Stopwords"
   ]
  },
  {
   "cell_type": "markdown",
   "metadata": {},
   "source": [
    "# 1. Choose a Website and Identify Structured Data"
   ]
  },
  {
   "cell_type": "markdown",
   "metadata": {},
   "source": [
    "I chose the Wikipedia website for this task. As part of my ongoing research on wildfires in the USA, I was looking for a comprehensive list of wildfire events. This website provides a well-structured table that summarizes wildfire history across the country. The table includes clearly organized information such as the year, size, the name of the wildfire, and area.  \n",
    "I select this table not only because it is relevant to my research topic, but also because the HTML structure of the table is relatively simple and consistent, making it easier to scrape.  \n",
    "\n",
    "(Ref: https://en.wikipedia.org/wiki/List_of_wildfires)"
   ]
  },
  {
   "cell_type": "markdown",
   "metadata": {},
   "source": [
    "# 2. Scrape Data Using BeautifulSoup"
   ]
  },
  {
   "cell_type": "markdown",
   "metadata": {},
   "source": [
    "### 2-1. Load website"
   ]
  },
  {
   "cell_type": "code",
   "execution_count": 2,
   "metadata": {},
   "outputs": [],
   "source": [
    "# Target website\n",
    "myurl = 'https://en.wikipedia.org/wiki/List_of_wildfires'\n",
    "\n",
    "# Add header for avoiding error: 'HTTP Error 403: Forbidden'\n",
    "# ref: https://stackoverflow.com/questions/77129954/error-403-webscraping-project-using-beautifulsoup\n",
    "headers = {'User-Agent' : 'Mozilla/5.0 (X11; Ubuntu; Linux x86_64; rv:109.0) Gecko/20100101 Firefox/117.0'}\n",
    "\n",
    "# Request with header \n",
    "request_id = requests.get(myurl, \n",
    "                          headers = headers)\n",
    "\n",
    "# Parse the HTML content using BeautifulSoup with the chosen parser\n",
    "soupified = BeautifulSoup(request_id.content, 'html.parser')"
   ]
  },
  {
   "cell_type": "markdown",
   "metadata": {},
   "source": [
    "### 2-2. Find all tables in the website"
   ]
  },
  {
   "cell_type": "markdown",
   "metadata": {},
   "source": [
    "Extract only table including `Year`, `Size`, `Name`, and `Area`."
   ]
  },
  {
   "cell_type": "code",
   "execution_count": 3,
   "metadata": {},
   "outputs": [
    {
     "name": "stdout",
     "output_type": "stream",
     "text": [
      "Table 0: 1 rows × 2 columns\n",
      "Table 1: 132 rows × 5 columns\n",
      "Table 2: 16 rows × 1 columns\n",
      "Table 3: 5 rows × 2 columns\n"
     ]
    }
   ],
   "source": [
    "def extract_table_data(soup_object):\n",
    "    tables_data = []\n",
    "    \n",
    "    for table_index, table in enumerate(soup_object.find_all('table')):\n",
    "        table_data = []\n",
    "        rows = table.find_all('tr')\n",
    "        \n",
    "        for row in rows:\n",
    "            # Handle both header (th) and data (td) cells\n",
    "            cells = row.find_all(['th', 'td'])\n",
    "            row_data = [cell.get_text(strip=True) for cell in cells]\n",
    "            if row_data:  # Only add non-empty rows\n",
    "                table_data.append(row_data)\n",
    "        \n",
    "        if table_data:  # Only add non-empty tables\n",
    "            tables_data.append({\n",
    "                'table_index': table_index,\n",
    "                'data': table_data,\n",
    "                'rows': len(table_data),\n",
    "                'columns': len(table_data[0]) if table_data else 0\n",
    "            })\n",
    "    \n",
    "    return tables_data\n",
    "\n",
    "table_info = extract_table_data(soupified)\n",
    "for table in table_info:\n",
    "    print(f\"Table {table['table_index']}: {table['rows']} rows × {table['columns']} columns\")"
   ]
  },
  {
   "cell_type": "markdown",
   "metadata": {},
   "source": [
    "**Table 1** is the table I'm interested in. Therefore, I will only use Table 1."
   ]
  },
  {
   "cell_type": "code",
   "execution_count": 4,
   "metadata": {},
   "outputs": [
    {
     "data": {
      "text/plain": [
       "[['Year', 'Size', 'Name', 'Area', 'Notes'],\n",
       " ['1825',\n",
       "  '3,000,000 acres (1,200,000\\xa0ha)',\n",
       "  '1825 Miramichi fire',\n",
       "  'New Brunswick',\n",
       "  'Killed between 160 and 300 people.'],\n",
       " ['1845',\n",
       "  '1,500,000 acres (610,000\\xa0ha)',\n",
       "  'The Great Fire',\n",
       "  'Oregon',\n",
       "  '[29]']]"
      ]
     },
     "execution_count": 4,
     "metadata": {},
     "output_type": "execute_result"
    }
   ],
   "source": [
    "# Extract Table 1 from the `table_info` variable above.\n",
    "table_info[1]['data'][:3] # Show only top 3 rows"
   ]
  },
  {
   "cell_type": "markdown",
   "metadata": {},
   "source": [
    "# 3. Clean and Organize the Data"
   ]
  },
  {
   "cell_type": "markdown",
   "metadata": {},
   "source": [
    "However, I would like to extract only `Year`, `Size`, `Name`, and `Area`, so I need to drop the `Notes` column. To do this, I need to convert this list-type data into a dataframe by using Pandas."
   ]
  },
  {
   "cell_type": "markdown",
   "metadata": {},
   "source": [
    "### 3-1. Convert your parsed data into a pandas DataFrame."
   ]
  },
  {
   "cell_type": "code",
   "execution_count": 5,
   "metadata": {},
   "outputs": [
    {
     "name": "stdout",
     "output_type": "stream",
     "text": [
      "(131, 4)\n"
     ]
    },
    {
     "data": {
      "text/html": [
       "<div>\n",
       "<style scoped>\n",
       "    .dataframe tbody tr th:only-of-type {\n",
       "        vertical-align: middle;\n",
       "    }\n",
       "\n",
       "    .dataframe tbody tr th {\n",
       "        vertical-align: top;\n",
       "    }\n",
       "\n",
       "    .dataframe thead th {\n",
       "        text-align: right;\n",
       "    }\n",
       "</style>\n",
       "<table border=\"1\" class=\"dataframe\">\n",
       "  <thead>\n",
       "    <tr style=\"text-align: right;\">\n",
       "      <th></th>\n",
       "      <th>Year</th>\n",
       "      <th>Size</th>\n",
       "      <th>Name</th>\n",
       "      <th>Area</th>\n",
       "    </tr>\n",
       "  </thead>\n",
       "  <tbody>\n",
       "    <tr>\n",
       "      <th>0</th>\n",
       "      <td>1825</td>\n",
       "      <td>3,000,000 acres (1,200,000 ha)</td>\n",
       "      <td>1825 Miramichi fire</td>\n",
       "      <td>New Brunswick</td>\n",
       "    </tr>\n",
       "    <tr>\n",
       "      <th>1</th>\n",
       "      <td>1845</td>\n",
       "      <td>1,500,000 acres (610,000 ha)</td>\n",
       "      <td>The Great Fire</td>\n",
       "      <td>Oregon</td>\n",
       "    </tr>\n",
       "    <tr>\n",
       "      <th>2</th>\n",
       "      <td>1865</td>\n",
       "      <td>1,000,000 acres (400,000 ha)</td>\n",
       "      <td>The Silverton Fire</td>\n",
       "      <td>Oregon</td>\n",
       "    </tr>\n",
       "    <tr>\n",
       "      <th>3</th>\n",
       "      <td>1853</td>\n",
       "      <td>450,000 acres (180,000 ha)</td>\n",
       "      <td>The Yaquina Fire</td>\n",
       "      <td>Oregon</td>\n",
       "    </tr>\n",
       "    <tr>\n",
       "      <th>4</th>\n",
       "      <td>1868</td>\n",
       "      <td>300,000 acres (120,000 ha)</td>\n",
       "      <td>The Coos Fire</td>\n",
       "      <td>Oregon</td>\n",
       "    </tr>\n",
       "  </tbody>\n",
       "</table>\n",
       "</div>"
      ],
      "text/plain": [
       "   Year                            Size                 Name           Area\n",
       "0  1825  3,000,000 acres (1,200,000 ha)  1825 Miramichi fire  New Brunswick\n",
       "1  1845    1,500,000 acres (610,000 ha)       The Great Fire         Oregon\n",
       "2  1865    1,000,000 acres (400,000 ha)   The Silverton Fire         Oregon\n",
       "3  1853      450,000 acres (180,000 ha)     The Yaquina Fire         Oregon\n",
       "4  1868      300,000 acres (120,000 ha)        The Coos Fire         Oregon"
      ]
     },
     "execution_count": 5,
     "metadata": {},
     "output_type": "execute_result"
    }
   ],
   "source": [
    "columns = table_info[1]['data'][0]     # Choose only column names\n",
    "records = table_info[1]['data'][1:]    # Choose the rest of rows\n",
    "\n",
    "fire = pd.DataFrame(records,           # Create DataFrame\n",
    "                    columns = columns)\n",
    "\n",
    "del fire['Notes']    # Drop Notes column\n",
    "\n",
    "print(fire.shape)    # Display the number of rows and columns\n",
    "fire.head()          # Print top 5 rows"
   ]
  },
  {
   "cell_type": "markdown",
   "metadata": {},
   "source": [
    "### 3-2. Convert numeric columns (e.g., remove commas/units)"
   ]
  },
  {
   "cell_type": "markdown",
   "metadata": {},
   "source": [
    "As we can see, the `Size` column represents the extent of burned area, including commas, units, and parentheses. I will keep only the numeric values representing acres, removing any additional words or extra information **by using ChatGPT-4o**."
   ]
  },
  {
   "cell_type": "code",
   "execution_count": 6,
   "metadata": {},
   "outputs": [
    {
     "data": {
      "text/html": [
       "<div>\n",
       "<style scoped>\n",
       "    .dataframe tbody tr th:only-of-type {\n",
       "        vertical-align: middle;\n",
       "    }\n",
       "\n",
       "    .dataframe tbody tr th {\n",
       "        vertical-align: top;\n",
       "    }\n",
       "\n",
       "    .dataframe thead th {\n",
       "        text-align: right;\n",
       "    }\n",
       "</style>\n",
       "<table border=\"1\" class=\"dataframe\">\n",
       "  <thead>\n",
       "    <tr style=\"text-align: right;\">\n",
       "      <th></th>\n",
       "      <th>Year</th>\n",
       "      <th>Size</th>\n",
       "      <th>Name</th>\n",
       "      <th>Area</th>\n",
       "    </tr>\n",
       "  </thead>\n",
       "  <tbody>\n",
       "    <tr>\n",
       "      <th>0</th>\n",
       "      <td>1825</td>\n",
       "      <td>3000000</td>\n",
       "      <td>1825 Miramichi fire</td>\n",
       "      <td>New Brunswick</td>\n",
       "    </tr>\n",
       "    <tr>\n",
       "      <th>1</th>\n",
       "      <td>1845</td>\n",
       "      <td>1500000</td>\n",
       "      <td>The Great Fire</td>\n",
       "      <td>Oregon</td>\n",
       "    </tr>\n",
       "    <tr>\n",
       "      <th>2</th>\n",
       "      <td>1865</td>\n",
       "      <td>1000000</td>\n",
       "      <td>The Silverton Fire</td>\n",
       "      <td>Oregon</td>\n",
       "    </tr>\n",
       "    <tr>\n",
       "      <th>3</th>\n",
       "      <td>1853</td>\n",
       "      <td>450000</td>\n",
       "      <td>The Yaquina Fire</td>\n",
       "      <td>Oregon</td>\n",
       "    </tr>\n",
       "    <tr>\n",
       "      <th>4</th>\n",
       "      <td>1868</td>\n",
       "      <td>300000</td>\n",
       "      <td>The Coos Fire</td>\n",
       "      <td>Oregon</td>\n",
       "    </tr>\n",
       "  </tbody>\n",
       "</table>\n",
       "</div>"
      ],
      "text/plain": [
       "   Year     Size                 Name           Area\n",
       "0  1825  3000000  1825 Miramichi fire  New Brunswick\n",
       "1  1845  1500000       The Great Fire         Oregon\n",
       "2  1865  1000000   The Silverton Fire         Oregon\n",
       "3  1853   450000     The Yaquina Fire         Oregon\n",
       "4  1868   300000        The Coos Fire         Oregon"
      ]
     },
     "execution_count": 6,
     "metadata": {},
     "output_type": "execute_result"
    }
   ],
   "source": [
    "cleaned_fire = fire.copy()\n",
    "\n",
    "# The code is from Chat-gpt 4o \n",
    "\n",
    "def clean_size(value):\n",
    "    \n",
    "    if pd.isna(value):                  # Handle missing values\n",
    "        return np.nan\n",
    "        \n",
    "    value = value.replace(',', '')      # Remove commas\n",
    "\n",
    "    # Keep only the part before `acres`\n",
    "    match = re.search(r'(\\d+)', value)  # r -> Ignore all escape characters (\\n, \\t etc.)\n",
    "    if match:                           # (\\d+) -> Find all continuous numeric values greater than 1, and make it as group\n",
    "        return int(match.group(1))      # Pick the first group\n",
    "    else:\n",
    "        return np.nan\n",
    "\n",
    "cleaned_fire['Size'] = fire['Size']\\\n",
    "                        .apply(clean_size)\\\n",
    "                        .astype('Int64')    # Convert type of column \n",
    "cleaned_fire.head()"
   ]
  },
  {
   "cell_type": "code",
   "execution_count": 7,
   "metadata": {},
   "outputs": [
    {
     "data": {
      "text/plain": [
       "Year    0\n",
       "Size    2\n",
       "Name    0\n",
       "Area    0\n",
       "dtype: int64"
      ]
     },
     "execution_count": 7,
     "metadata": {},
     "output_type": "execute_result"
    }
   ],
   "source": [
    "cleaned_fire.isna().sum() # Check missing values by column."
   ]
  },
  {
   "cell_type": "code",
   "execution_count": 8,
   "metadata": {},
   "outputs": [
    {
     "data": {
      "text/html": [
       "<div>\n",
       "<style scoped>\n",
       "    .dataframe tbody tr th:only-of-type {\n",
       "        vertical-align: middle;\n",
       "    }\n",
       "\n",
       "    .dataframe tbody tr th {\n",
       "        vertical-align: top;\n",
       "    }\n",
       "\n",
       "    .dataframe thead th {\n",
       "        text-align: right;\n",
       "    }\n",
       "</style>\n",
       "<table border=\"1\" class=\"dataframe\">\n",
       "  <thead>\n",
       "    <tr style=\"text-align: right;\">\n",
       "      <th></th>\n",
       "      <th>Year</th>\n",
       "      <th>Size</th>\n",
       "      <th>Name</th>\n",
       "      <th>Area</th>\n",
       "    </tr>\n",
       "  </thead>\n",
       "  <tbody>\n",
       "    <tr>\n",
       "      <th>22</th>\n",
       "      <td>1923</td>\n",
       "      <td>NaN</td>\n",
       "      <td>Giant Berkeley Fire</td>\n",
       "      <td>California</td>\n",
       "    </tr>\n",
       "    <tr>\n",
       "      <th>102</th>\n",
       "      <td>2016</td>\n",
       "      <td>NaN</td>\n",
       "      <td>August 2016 Western United States wildfires</td>\n",
       "      <td>California, Idaho, Montana, Nevada, Oregon, Wa...</td>\n",
       "    </tr>\n",
       "  </tbody>\n",
       "</table>\n",
       "</div>"
      ],
      "text/plain": [
       "     Year  Size                                         Name  \\\n",
       "22   1923   NaN                          Giant Berkeley Fire   \n",
       "102  2016   NaN  August 2016 Western United States wildfires   \n",
       "\n",
       "                                                  Area  \n",
       "22                                          California  \n",
       "102  California, Idaho, Montana, Nevada, Oregon, Wa...  "
      ]
     },
     "execution_count": 8,
     "metadata": {},
     "output_type": "execute_result"
    }
   ],
   "source": [
    "cleaned_fire[cleaned_fire['Size'].isna()] # Check missing data are converted as Nan."
   ]
  },
  {
   "cell_type": "markdown",
   "metadata": {},
   "source": [
    "### 3-3. Standardize text formats (e.g, convert to lower case)"
   ]
  },
  {
   "cell_type": "code",
   "execution_count": 9,
   "metadata": {},
   "outputs": [],
   "source": [
    "# Convert the column names into lower case\n",
    "cleaned_fire.columns = cleaned_fire.columns.str.lower()\n",
    "cleaned_fire[['name', 'area']] = cleaned_fire[['name', 'area']].apply(lambda col: col.str.lower())"
   ]
  },
  {
   "cell_type": "code",
   "execution_count": 10,
   "metadata": {},
   "outputs": [
    {
     "data": {
      "text/html": [
       "<div>\n",
       "<style scoped>\n",
       "    .dataframe tbody tr th:only-of-type {\n",
       "        vertical-align: middle;\n",
       "    }\n",
       "\n",
       "    .dataframe tbody tr th {\n",
       "        vertical-align: top;\n",
       "    }\n",
       "\n",
       "    .dataframe thead th {\n",
       "        text-align: right;\n",
       "    }\n",
       "</style>\n",
       "<table border=\"1\" class=\"dataframe\">\n",
       "  <thead>\n",
       "    <tr style=\"text-align: right;\">\n",
       "      <th></th>\n",
       "      <th>year</th>\n",
       "      <th>size</th>\n",
       "      <th>name</th>\n",
       "      <th>area</th>\n",
       "    </tr>\n",
       "  </thead>\n",
       "  <tbody>\n",
       "    <tr>\n",
       "      <th>0</th>\n",
       "      <td>1825</td>\n",
       "      <td>3000000</td>\n",
       "      <td>1825 miramichi fire</td>\n",
       "      <td>new brunswick</td>\n",
       "    </tr>\n",
       "    <tr>\n",
       "      <th>1</th>\n",
       "      <td>1845</td>\n",
       "      <td>1500000</td>\n",
       "      <td>the great fire</td>\n",
       "      <td>oregon</td>\n",
       "    </tr>\n",
       "    <tr>\n",
       "      <th>2</th>\n",
       "      <td>1865</td>\n",
       "      <td>1000000</td>\n",
       "      <td>the silverton fire</td>\n",
       "      <td>oregon</td>\n",
       "    </tr>\n",
       "    <tr>\n",
       "      <th>3</th>\n",
       "      <td>1853</td>\n",
       "      <td>450000</td>\n",
       "      <td>the yaquina fire</td>\n",
       "      <td>oregon</td>\n",
       "    </tr>\n",
       "    <tr>\n",
       "      <th>4</th>\n",
       "      <td>1868</td>\n",
       "      <td>300000</td>\n",
       "      <td>the coos fire</td>\n",
       "      <td>oregon</td>\n",
       "    </tr>\n",
       "  </tbody>\n",
       "</table>\n",
       "</div>"
      ],
      "text/plain": [
       "   year     size                 name           area\n",
       "0  1825  3000000  1825 miramichi fire  new brunswick\n",
       "1  1845  1500000       the great fire         oregon\n",
       "2  1865  1000000   the silverton fire         oregon\n",
       "3  1853   450000     the yaquina fire         oregon\n",
       "4  1868   300000        the coos fire         oregon"
      ]
     },
     "execution_count": 10,
     "metadata": {},
     "output_type": "execute_result"
    }
   ],
   "source": [
    "cleaned_fire.head()"
   ]
  },
  {
   "cell_type": "markdown",
   "metadata": {},
   "source": [
    "I converted all column names and their values to lowercase, and simplified the size column by removing commas and unit labels to retain only the numeric area."
   ]
  },
  {
   "cell_type": "markdown",
   "metadata": {},
   "source": [
    "### 3-4. Handle missing values (e.g, fill with NaN)"
   ]
  },
  {
   "cell_type": "code",
   "execution_count": 11,
   "metadata": {},
   "outputs": [
    {
     "name": "stdout",
     "output_type": "stream",
     "text": [
      "0      False\n",
      "1      False\n",
      "2      False\n",
      "3      False\n",
      "4      False\n",
      "       ...  \n",
      "126    False\n",
      "127    False\n",
      "128    False\n",
      "129    False\n",
      "130    False\n",
      "Name: name, Length: 131, dtype: bool\n"
     ]
    }
   ],
   "source": [
    "# Need to check both `.isna()` and `str.stip() == ''`. Becuase empty '' are not detected by `.isna()`\n",
    "\n",
    "empty = cleaned_fire['name'].str.strip() == '' # Find empty rows\n",
    "print(empty)\n",
    "\n",
    "cleaned_fire.loc[empty, 'name'] = 'Nan'        # Empty row fill with `Nan`"
   ]
  },
  {
   "cell_type": "code",
   "execution_count": 12,
   "metadata": {},
   "outputs": [
    {
     "data": {
      "text/html": [
       "<div>\n",
       "<style scoped>\n",
       "    .dataframe tbody tr th:only-of-type {\n",
       "        vertical-align: middle;\n",
       "    }\n",
       "\n",
       "    .dataframe tbody tr th {\n",
       "        vertical-align: top;\n",
       "    }\n",
       "\n",
       "    .dataframe thead th {\n",
       "        text-align: right;\n",
       "    }\n",
       "</style>\n",
       "<table border=\"1\" class=\"dataframe\">\n",
       "  <thead>\n",
       "    <tr style=\"text-align: right;\">\n",
       "      <th></th>\n",
       "      <th>year</th>\n",
       "      <th>size</th>\n",
       "      <th>name</th>\n",
       "      <th>area</th>\n",
       "    </tr>\n",
       "  </thead>\n",
       "  <tbody>\n",
       "    <tr>\n",
       "      <th>10</th>\n",
       "      <td>1889</td>\n",
       "      <td>300000</td>\n",
       "      <td>santiago canyon fire</td>\n",
       "      <td>california</td>\n",
       "    </tr>\n",
       "    <tr>\n",
       "      <th>11</th>\n",
       "      <td>1894</td>\n",
       "      <td>350000</td>\n",
       "      <td>great hinckley fire</td>\n",
       "      <td>minnesota</td>\n",
       "    </tr>\n",
       "    <tr>\n",
       "      <th>12</th>\n",
       "      <td>1898</td>\n",
       "      <td>2500000</td>\n",
       "      <td>Nan</td>\n",
       "      <td>south carolina</td>\n",
       "    </tr>\n",
       "  </tbody>\n",
       "</table>\n",
       "</div>"
      ],
      "text/plain": [
       "    year     size                  name            area\n",
       "10  1889   300000  santiago canyon fire      california\n",
       "11  1894   350000   great hinckley fire       minnesota\n",
       "12  1898  2500000                   Nan  south carolina"
      ]
     },
     "execution_count": 12,
     "metadata": {},
     "output_type": "execute_result"
    }
   ],
   "source": [
    "cleaned_fire[10:13] # Check the result"
   ]
  },
  {
   "cell_type": "markdown",
   "metadata": {},
   "source": [
    "### 3-5. Remove Stopword: `and`"
   ]
  },
  {
   "cell_type": "markdown",
   "metadata": {},
   "source": [
    "In such cases, it’s not enough to simply remove 'and', there are instances like 'idaho andmontana' where 'and' is attached to a state name. To handle these cases properly, I referred to code examples using **ChatGPT-4o**."
   ]
  },
  {
   "cell_type": "code",
   "execution_count": 13,
   "metadata": {},
   "outputs": [
    {
     "name": "stderr",
     "output_type": "stream",
     "text": [
      "[nltk_data] Downloading package stopwords to /home/jlc3q/nltk_data...\n",
      "[nltk_data]   Package stopwords is already up-to-date!\n",
      "[nltk_data] Downloading package punkt_tab to /home/jlc3q/nltk_data...\n",
      "[nltk_data]   Package punkt_tab is already up-to-date!\n"
     ]
    },
    {
     "data": {
      "text/plain": [
       "['new_brunswick',\n",
       " 'oregon',\n",
       " 'oregon',\n",
       " 'oregon',\n",
       " 'oregon',\n",
       " 'quebec',\n",
       " 'wisconsin',\n",
       " 'michigan',\n",
       " 'wyoming',\n",
       " 'michigan',\n",
       " 'california',\n",
       " 'minnesota',\n",
       " 'south_carolina',\n",
       " 'washington_oregon',\n",
       " 'new_york']"
      ]
     },
     "execution_count": 13,
     "metadata": {},
     "output_type": "execute_result"
    }
   ],
   "source": [
    "nltk.download('stopwords') # download for stopwords\n",
    "nltk.download('punkt_tab')\n",
    "\n",
    "def preprocess_corpus(texts):\n",
    "    \n",
    "    # Load English stopwords once for efficiency\n",
    "    mystopwords = set(stopwords.words(\"english\"))\n",
    "    \n",
    "    def remove_stops(text):\n",
    "        text = re.sub(r'and', ' ', text) # Split in cases like 'idahoandmontana' where 'and' and state names are stuck together\n",
    "\n",
    "        tokens = word_tokenize(text)     # Make token based on ' ' \n",
    "\n",
    "        cleaned = [t for t in tokens if t not in mystopwords and t.strip() != '']\n",
    "\n",
    "        return '_'.join(cleaned) # Connect with '_'\n",
    "        \n",
    "    # Tokenize and clean each text in the input list\n",
    "    return [remove_stops(str(t)) for t in texts]\n",
    "    \n",
    "\n",
    "cleaned_tokens = preprocess_corpus(cleaned_fire['area'].tolist()) # Put area column as a type of list\n",
    "cleaned_tokens[:15]"
   ]
  },
  {
   "cell_type": "code",
   "execution_count": 14,
   "metadata": {},
   "outputs": [
    {
     "data": {
      "text/html": [
       "<div>\n",
       "<style scoped>\n",
       "    .dataframe tbody tr th:only-of-type {\n",
       "        vertical-align: middle;\n",
       "    }\n",
       "\n",
       "    .dataframe tbody tr th {\n",
       "        vertical-align: top;\n",
       "    }\n",
       "\n",
       "    .dataframe thead th {\n",
       "        text-align: right;\n",
       "    }\n",
       "</style>\n",
       "<table border=\"1\" class=\"dataframe\">\n",
       "  <thead>\n",
       "    <tr style=\"text-align: right;\">\n",
       "      <th></th>\n",
       "      <th>year</th>\n",
       "      <th>size</th>\n",
       "      <th>name</th>\n",
       "      <th>area</th>\n",
       "      <th>new_area</th>\n",
       "    </tr>\n",
       "  </thead>\n",
       "  <tbody>\n",
       "    <tr>\n",
       "      <th>0</th>\n",
       "      <td>1825</td>\n",
       "      <td>3000000</td>\n",
       "      <td>1825 miramichi fire</td>\n",
       "      <td>new brunswick</td>\n",
       "      <td>new_brunswick</td>\n",
       "    </tr>\n",
       "    <tr>\n",
       "      <th>1</th>\n",
       "      <td>1845</td>\n",
       "      <td>1500000</td>\n",
       "      <td>the great fire</td>\n",
       "      <td>oregon</td>\n",
       "      <td>oregon</td>\n",
       "    </tr>\n",
       "    <tr>\n",
       "      <th>2</th>\n",
       "      <td>1865</td>\n",
       "      <td>1000000</td>\n",
       "      <td>the silverton fire</td>\n",
       "      <td>oregon</td>\n",
       "      <td>oregon</td>\n",
       "    </tr>\n",
       "    <tr>\n",
       "      <th>3</th>\n",
       "      <td>1853</td>\n",
       "      <td>450000</td>\n",
       "      <td>the yaquina fire</td>\n",
       "      <td>oregon</td>\n",
       "      <td>oregon</td>\n",
       "    </tr>\n",
       "    <tr>\n",
       "      <th>4</th>\n",
       "      <td>1868</td>\n",
       "      <td>300000</td>\n",
       "      <td>the coos fire</td>\n",
       "      <td>oregon</td>\n",
       "      <td>oregon</td>\n",
       "    </tr>\n",
       "  </tbody>\n",
       "</table>\n",
       "</div>"
      ],
      "text/plain": [
       "   year     size                 name           area       new_area\n",
       "0  1825  3000000  1825 miramichi fire  new brunswick  new_brunswick\n",
       "1  1845  1500000       the great fire         oregon         oregon\n",
       "2  1865  1000000   the silverton fire         oregon         oregon\n",
       "3  1853   450000     the yaquina fire         oregon         oregon\n",
       "4  1868   300000        the coos fire         oregon         oregon"
      ]
     },
     "execution_count": 14,
     "metadata": {},
     "output_type": "execute_result"
    }
   ],
   "source": [
    "cleaned_fire['new_area'] = cleaned_tokens \n",
    "cleaned_fire.head()"
   ]
  },
  {
   "cell_type": "code",
   "execution_count": 15,
   "metadata": {},
   "outputs": [
    {
     "data": {
      "text/html": [
       "<div>\n",
       "<style scoped>\n",
       "    .dataframe tbody tr th:only-of-type {\n",
       "        vertical-align: middle;\n",
       "    }\n",
       "\n",
       "    .dataframe tbody tr th {\n",
       "        vertical-align: top;\n",
       "    }\n",
       "\n",
       "    .dataframe thead th {\n",
       "        text-align: right;\n",
       "    }\n",
       "</style>\n",
       "<table border=\"1\" class=\"dataframe\">\n",
       "  <thead>\n",
       "    <tr style=\"text-align: right;\">\n",
       "      <th></th>\n",
       "      <th>year</th>\n",
       "      <th>size</th>\n",
       "      <th>name</th>\n",
       "      <th>area</th>\n",
       "      <th>new_area</th>\n",
       "    </tr>\n",
       "  </thead>\n",
       "  <tbody>\n",
       "    <tr>\n",
       "      <th>0</th>\n",
       "      <td>1825</td>\n",
       "      <td>3000000</td>\n",
       "      <td>1825 miramichi fire</td>\n",
       "      <td>new brunswick</td>\n",
       "      <td>new_brunswick</td>\n",
       "    </tr>\n",
       "    <tr>\n",
       "      <th>1</th>\n",
       "      <td>1845</td>\n",
       "      <td>1500000</td>\n",
       "      <td>the great fire</td>\n",
       "      <td>oregon</td>\n",
       "      <td>oregon</td>\n",
       "    </tr>\n",
       "    <tr>\n",
       "      <th>2</th>\n",
       "      <td>1865</td>\n",
       "      <td>1000000</td>\n",
       "      <td>the silverton fire</td>\n",
       "      <td>oregon</td>\n",
       "      <td>oregon</td>\n",
       "    </tr>\n",
       "    <tr>\n",
       "      <th>3</th>\n",
       "      <td>1853</td>\n",
       "      <td>450000</td>\n",
       "      <td>the yaquina fire</td>\n",
       "      <td>oregon</td>\n",
       "      <td>oregon</td>\n",
       "    </tr>\n",
       "    <tr>\n",
       "      <th>4</th>\n",
       "      <td>1868</td>\n",
       "      <td>300000</td>\n",
       "      <td>the coos fire</td>\n",
       "      <td>oregon</td>\n",
       "      <td>oregon</td>\n",
       "    </tr>\n",
       "    <tr>\n",
       "      <th>5</th>\n",
       "      <td>1870</td>\n",
       "      <td>964000</td>\n",
       "      <td>saguenay fire</td>\n",
       "      <td>quebec</td>\n",
       "      <td>quebec</td>\n",
       "    </tr>\n",
       "    <tr>\n",
       "      <th>6</th>\n",
       "      <td>1871</td>\n",
       "      <td>1200000</td>\n",
       "      <td>peshtigo fire</td>\n",
       "      <td>wisconsin</td>\n",
       "      <td>wisconsin</td>\n",
       "    </tr>\n",
       "    <tr>\n",
       "      <th>7</th>\n",
       "      <td>1871</td>\n",
       "      <td>2500000</td>\n",
       "      <td>great michigan fire</td>\n",
       "      <td>michigan</td>\n",
       "      <td>michigan</td>\n",
       "    </tr>\n",
       "    <tr>\n",
       "      <th>8</th>\n",
       "      <td>1876</td>\n",
       "      <td>500000</td>\n",
       "      <td>bighorn fire</td>\n",
       "      <td>wyoming</td>\n",
       "      <td>wyoming</td>\n",
       "    </tr>\n",
       "    <tr>\n",
       "      <th>9</th>\n",
       "      <td>1881</td>\n",
       "      <td>1000000</td>\n",
       "      <td>thumb fire</td>\n",
       "      <td>michigan</td>\n",
       "      <td>michigan</td>\n",
       "    </tr>\n",
       "    <tr>\n",
       "      <th>10</th>\n",
       "      <td>1889</td>\n",
       "      <td>300000</td>\n",
       "      <td>santiago canyon fire</td>\n",
       "      <td>california</td>\n",
       "      <td>california</td>\n",
       "    </tr>\n",
       "    <tr>\n",
       "      <th>11</th>\n",
       "      <td>1894</td>\n",
       "      <td>350000</td>\n",
       "      <td>great hinckley fire</td>\n",
       "      <td>minnesota</td>\n",
       "      <td>minnesota</td>\n",
       "    </tr>\n",
       "    <tr>\n",
       "      <th>12</th>\n",
       "      <td>1898</td>\n",
       "      <td>2500000</td>\n",
       "      <td>Nan</td>\n",
       "      <td>south carolina</td>\n",
       "      <td>south_carolina</td>\n",
       "    </tr>\n",
       "    <tr>\n",
       "      <th>13</th>\n",
       "      <td>1902</td>\n",
       "      <td>238900</td>\n",
       "      <td>yacolt burn</td>\n",
       "      <td>washington and oregon</td>\n",
       "      <td>washington_oregon</td>\n",
       "    </tr>\n",
       "    <tr>\n",
       "      <th>14</th>\n",
       "      <td>1903</td>\n",
       "      <td>464000</td>\n",
       "      <td>adirondack fire</td>\n",
       "      <td>new york</td>\n",
       "      <td>new_york</td>\n",
       "    </tr>\n",
       "    <tr>\n",
       "      <th>15</th>\n",
       "      <td>1908</td>\n",
       "      <td>64000</td>\n",
       "      <td>1908 fernie fire</td>\n",
       "      <td>british columbia</td>\n",
       "      <td>british_columbia</td>\n",
       "    </tr>\n",
       "    <tr>\n",
       "      <th>16</th>\n",
       "      <td>1910</td>\n",
       "      <td>3000000</td>\n",
       "      <td>great fire of 1910</td>\n",
       "      <td>idaho andmontana</td>\n",
       "      <td>idaho_montana</td>\n",
       "    </tr>\n",
       "    <tr>\n",
       "      <th>17</th>\n",
       "      <td>1911</td>\n",
       "      <td>500000</td>\n",
       "      <td>great porcupine fire</td>\n",
       "      <td>ontario</td>\n",
       "      <td>ontario</td>\n",
       "    </tr>\n",
       "    <tr>\n",
       "      <th>18</th>\n",
       "      <td>1916</td>\n",
       "      <td>500000</td>\n",
       "      <td>greatmatheson fire</td>\n",
       "      <td>ontario</td>\n",
       "      <td>ontario</td>\n",
       "    </tr>\n",
       "    <tr>\n",
       "      <th>19</th>\n",
       "      <td>1918</td>\n",
       "      <td>100000</td>\n",
       "      <td>cloquet fire</td>\n",
       "      <td>minnesota andwisconsin</td>\n",
       "      <td>minnesota_wisconsin</td>\n",
       "    </tr>\n",
       "  </tbody>\n",
       "</table>\n",
       "</div>"
      ],
      "text/plain": [
       "    year     size                  name                    area  \\\n",
       "0   1825  3000000   1825 miramichi fire           new brunswick   \n",
       "1   1845  1500000        the great fire                  oregon   \n",
       "2   1865  1000000    the silverton fire                  oregon   \n",
       "3   1853   450000      the yaquina fire                  oregon   \n",
       "4   1868   300000         the coos fire                  oregon   \n",
       "5   1870   964000         saguenay fire                  quebec   \n",
       "6   1871  1200000         peshtigo fire               wisconsin   \n",
       "7   1871  2500000   great michigan fire                michigan   \n",
       "8   1876   500000          bighorn fire                 wyoming   \n",
       "9   1881  1000000            thumb fire                michigan   \n",
       "10  1889   300000  santiago canyon fire              california   \n",
       "11  1894   350000   great hinckley fire               minnesota   \n",
       "12  1898  2500000                   Nan          south carolina   \n",
       "13  1902   238900           yacolt burn   washington and oregon   \n",
       "14  1903   464000       adirondack fire                new york   \n",
       "15  1908    64000      1908 fernie fire        british columbia   \n",
       "16  1910  3000000    great fire of 1910        idaho andmontana   \n",
       "17  1911   500000  great porcupine fire                 ontario   \n",
       "18  1916   500000    greatmatheson fire                 ontario   \n",
       "19  1918   100000          cloquet fire  minnesota andwisconsin   \n",
       "\n",
       "               new_area  \n",
       "0         new_brunswick  \n",
       "1                oregon  \n",
       "2                oregon  \n",
       "3                oregon  \n",
       "4                oregon  \n",
       "5                quebec  \n",
       "6             wisconsin  \n",
       "7              michigan  \n",
       "8               wyoming  \n",
       "9              michigan  \n",
       "10           california  \n",
       "11            minnesota  \n",
       "12       south_carolina  \n",
       "13    washington_oregon  \n",
       "14             new_york  \n",
       "15     british_columbia  \n",
       "16        idaho_montana  \n",
       "17              ontario  \n",
       "18              ontario  \n",
       "19  minnesota_wisconsin  "
      ]
     },
     "execution_count": 15,
     "metadata": {},
     "output_type": "execute_result"
    }
   ],
   "source": [
    "cleaned_fire.head(20) # Check the special cases: 16, 19 rows"
   ]
  },
  {
   "cell_type": "markdown",
   "metadata": {},
   "source": [
    "I removed 'and' as well as instances where 'and' was attached to other words, and then connected the remaining parts using underscores '_'."
   ]
  },
  {
   "cell_type": "markdown",
   "metadata": {},
   "source": [
    "# 4. Simple Data Analysis or Visualization (2 points)"
   ]
  },
  {
   "cell_type": "markdown",
   "metadata": {},
   "source": [
    "### 4-1. Sort and display top items in a category"
   ]
  },
  {
   "cell_type": "code",
   "execution_count": 16,
   "metadata": {},
   "outputs": [
    {
     "name": "stdout",
     "output_type": "stream",
     "text": [
      "Subset the top 3 most frequent areas:\n",
      " california          31\n",
      "british_columbia     9\n",
      "oregon               9\n",
      "colorado             8\n",
      "new_mexico           6\n",
      "Name: new_area, dtype: int64 \n",
      "\n",
      "Extracted Top 5 Areas:\n",
      " Index(['california', 'british_columbia', 'oregon', 'colorado', 'new_mexico'], dtype='object')\n"
     ]
    }
   ],
   "source": [
    "print(\"Subset the top 3 most frequent areas:\\n\", cleaned_fire.new_area.value_counts().head(), '\\n')\n",
    "\n",
    "top5_areas = cleaned_fire.new_area.value_counts().head().index     # Extract only top 5 area names\n",
    "print(\"Extracted Top 5 Areas:\\n\", top5_areas)"
   ]
  },
  {
   "cell_type": "code",
   "execution_count": 17,
   "metadata": {},
   "outputs": [
    {
     "data": {
      "text/html": [
       "<div>\n",
       "<style scoped>\n",
       "    .dataframe tbody tr th:only-of-type {\n",
       "        vertical-align: middle;\n",
       "    }\n",
       "\n",
       "    .dataframe tbody tr th {\n",
       "        vertical-align: top;\n",
       "    }\n",
       "\n",
       "    .dataframe thead th {\n",
       "        text-align: right;\n",
       "    }\n",
       "</style>\n",
       "<table border=\"1\" class=\"dataframe\">\n",
       "  <thead>\n",
       "    <tr style=\"text-align: right;\">\n",
       "      <th></th>\n",
       "      <th>year</th>\n",
       "      <th>size</th>\n",
       "      <th>name</th>\n",
       "      <th>area</th>\n",
       "      <th>new_area</th>\n",
       "    </tr>\n",
       "  </thead>\n",
       "  <tbody>\n",
       "    <tr>\n",
       "      <th>1</th>\n",
       "      <td>1845</td>\n",
       "      <td>1500000</td>\n",
       "      <td>the great fire</td>\n",
       "      <td>oregon</td>\n",
       "      <td>oregon</td>\n",
       "    </tr>\n",
       "    <tr>\n",
       "      <th>2</th>\n",
       "      <td>1865</td>\n",
       "      <td>1000000</td>\n",
       "      <td>the silverton fire</td>\n",
       "      <td>oregon</td>\n",
       "      <td>oregon</td>\n",
       "    </tr>\n",
       "    <tr>\n",
       "      <th>3</th>\n",
       "      <td>1853</td>\n",
       "      <td>450000</td>\n",
       "      <td>the yaquina fire</td>\n",
       "      <td>oregon</td>\n",
       "      <td>oregon</td>\n",
       "    </tr>\n",
       "    <tr>\n",
       "      <th>4</th>\n",
       "      <td>1868</td>\n",
       "      <td>300000</td>\n",
       "      <td>the coos fire</td>\n",
       "      <td>oregon</td>\n",
       "      <td>oregon</td>\n",
       "    </tr>\n",
       "    <tr>\n",
       "      <th>10</th>\n",
       "      <td>1889</td>\n",
       "      <td>300000</td>\n",
       "      <td>santiago canyon fire</td>\n",
       "      <td>california</td>\n",
       "      <td>california</td>\n",
       "    </tr>\n",
       "  </tbody>\n",
       "</table>\n",
       "</div>"
      ],
      "text/plain": [
       "    year     size                  name        area    new_area\n",
       "1   1845  1500000        the great fire      oregon      oregon\n",
       "2   1865  1000000    the silverton fire      oregon      oregon\n",
       "3   1853   450000      the yaquina fire      oregon      oregon\n",
       "4   1868   300000         the coos fire      oregon      oregon\n",
       "10  1889   300000  santiago canyon fire  california  california"
      ]
     },
     "execution_count": 17,
     "metadata": {},
     "output_type": "execute_result"
    }
   ],
   "source": [
    "cleaned_fire[cleaned_fire['new_area'].isin(top5_areas)].head()  # Take a look into top5_areas"
   ]
  },
  {
   "cell_type": "markdown",
   "metadata": {},
   "source": [
    "### 4-2. Calculate averages/sums of numeric columns"
   ]
  },
  {
   "cell_type": "code",
   "execution_count": 18,
   "metadata": {},
   "outputs": [
    {
     "data": {
      "text/plain": [
       "new_area\n",
       "british_columbia    817624.222222\n",
       "oregon              656690.333333\n",
       "california          389176.233333\n",
       "new_mexico          161928.666667\n",
       "colorado            124832.875000\n",
       "Name: size, dtype: float64"
      ]
     },
     "execution_count": 18,
     "metadata": {},
     "output_type": "execute_result"
    }
   ],
   "source": [
    "# Filter for the top 3 areas, sum the sizes, and sort the results\n",
    "\n",
    "subset_areas = cleaned_fire[cleaned_fire['new_area']\\\n",
    "                                    .isin(top5_areas)]\\\n",
    "                                    .groupby('new_area')['size']\\\n",
    "                                    .mean()\\\n",
    "                                    .sort_values(ascending = False)\n",
    "subset_areas"
   ]
  },
  {
   "cell_type": "markdown",
   "metadata": {},
   "source": [
    "### 4-3. Create a bar chart or pie chart to compare categories using matplotlib or seaborn"
   ]
  },
  {
   "cell_type": "code",
   "execution_count": 19,
   "metadata": {},
   "outputs": [
    {
     "name": "stdout",
     "output_type": "stream",
     "text": [
      "Average of top 5 areas: 430050.0 2\n"
     ]
    },
    {
     "data": {
      "image/png": "[encoded data removed]",
      "text/plain": [
       "<Figure size 432x288 with 1 Axes>"
      ]
     },
     "metadata": {
      "needs_background": "light"
     },
     "output_type": "display_data"
    }
   ],
   "source": [
    "# Histogram\n",
    "subset_areas.plot(kind = 'bar')\n",
    "\n",
    "plt.xlabel('Areas')         # X label\n",
    "plt.ylabel('Total Size')    # Y label\n",
    "\n",
    "plt.xticks(rotation = 0)    # Adjust x label angles\n",
    "\n",
    "plt.title('Top 5 Most Frequent Areas') # Title\n",
    "\n",
    "total_average = subset_areas.mean()    # Add top 5 areas' average\n",
    "\n",
    "print(\"Average of top 5 areas:\", round(total_average), 2)\n",
    "\n",
    "plt.axhline(y = total_average,         # Threshold line\n",
    "            color = 'red', \n",
    "            linestyle = '--')\n",
    "\n",
    "plt.show() # Result"
   ]
  },
  {
   "cell_type": "markdown",
   "metadata": {},
   "source": [
    "An interesting observation is that British Columbia experienced 9 wildfires, the same number as Oregon, and second only to California, which had 31 incidents.\n",
    "However, when looking at the average area burned per wildfire by area in the histogram, we can see that British Columbia had the largest average burned area, despite having fewer fires.\n",
    "\n",
    "In contrast, California, which had the overwhelming number of wildfires, shows a relatively low average area burned per fire, even below the red line indicating the average among the top 5 areas.\n",
    "This suggests that California experiences frequent but relatively small-scale wildfires.\n",
    "\n",
    "Alternatively, it could indicate that British Columbia has less effective wildfire containment, leading to more severe damage per incident compared to Oregon or California."
   ]
  },
  {
   "cell_type": "markdown",
   "metadata": {},
   "source": [
    "# 5. Reflection and Extension"
   ]
  },
  {
   "cell_type": "markdown",
   "metadata": {},
   "source": [
    "**What challenges did you face compared to the basic example?**  \n",
    "\n",
    "- It was an unexpected case where “and” was attached to other words. I hadn’t anticipated that “and” could appear without spaces, and when dealing with a large amount of data, such cases can easily be overlooked. In my case, I discovered it during the analysis and was able to resolve it with the help of ChatGPT. However, since this situation isn’t typically covered in basic examples, it was quite a challenging issue to handle.\n",
    "\n",
    "**Are there other Python packages (like Scrapy or Selenium) that might help if the site was more complex?**  \n",
    "\n",
    "- I definitely believe it would be helpful. In my case, I worked with a relatively simple table structure from Wikipedia, but I’m sure there are websites with much more complex layouts. In those situations, I think tools like Scrapy or Selenium would be very useful.\n",
    "\n",
    "**Suggest one AI prompt you could use with Copilot to help automate or improve your code (e.g., “Generate code to handle pagination in BeautifulSoup”).**  \n",
    "\n",
    "- I want to clean the area column by removing the stopword “and”. The issue is that sometimes “and” is properly spaced, like in “washington and oregon”, but other times it’s stuck to other words, like “idahoandmontana”. I want to remove “and” in both cases and then connect the remaining words with underscores, so for example, “new brunswick” becomes “new_brunswick”, and “idahoandmontana” becomes “idaho_montana”.\n"
   ]
  }
 ],
 "metadata": {
  "kernelspec": {
   "display_name": "Python 3",
   "language": "python",
   "name": "python3"
  },
  "language_info": {
   "codemirror_mode": {
    "name": "ipython",
    "version": 3
   },
   "file_extension": ".py",
   "mimetype": "text/x-python",
   "name": "python",
   "nbconvert_exporter": "python",
   "pygments_lexer": "ipython3",
   "version": "3.7.3"
  }
 },
 "nbformat": 4,
 "nbformat_minor": 5
}
